{
  "cells": [
    {
      "cell_type": "markdown",
      "id": "b39acfe0",
      "metadata": {
        "id": "b39acfe0"
      },
      "source": [
        "<a href=\"https://colab.research.google.com/github/dryezl/AD_CSF_ADNI/edit/main/docs/docs/examples/retrievers/auto_merging_retriever.ipynb\" target=\"_parent\"><img src=\"https://colab.research.google.com/assets/colab-badge.svg\" alt=\"Open In Colab\"/></a>"
      ]
    },
    {
      "cell_type": "markdown",
      "source": [
        "## setup local llm\n"
      ],
      "metadata": {
        "id": "mZZF4GJjsxdu"
      },
      "id": "mZZF4GJjsxdu"
    },
    {
      "cell_type": "markdown",
      "source": [
        "### Install Required Libraries\n"
      ],
      "metadata": {
        "id": "i4DUtNIFtLQ2"
      },
      "id": "i4DUtNIFtLQ2"
    },
    {
      "cell_type": "code",
      "source": [
        "!sudo apt-get install -y pciutils\n",
        "!curl -fsSL https://ollama.com/install.sh | sh # download ollama api\n",
        "from IPython.display import clear_output\n",
        "\n",
        "\n",
        "\n"
      ],
      "metadata": {
        "collapsed": true,
        "id": "MghVqZA4YWSA"
      },
      "id": "MghVqZA4YWSA",
      "execution_count": 4,
      "outputs": []
    },
    {
      "cell_type": "code",
      "source": [
        "\n",
        "# Create a Python script to start the Ollama API server in a separate thread\n",
        "\n",
        "import os\n",
        "import threading\n",
        "import subprocess\n",
        "import requests\n",
        "import json\n",
        "\n",
        "def ollama():\n",
        "    os.environ['OLLAMA_HOST'] = '0.0.0.0:11434'\n",
        "    os.environ['OLLAMA_ORIGINS'] = '*'\n",
        "    subprocess.Popen([\"ollama\", \"serve\"])\n",
        "\n",
        "ollama_thread = threading.Thread(target=ollama)\n",
        "ollama_thread.start()\n",
        "\n",
        "\n",
        "\n"
      ],
      "metadata": {
        "id": "19CZYKGPe3nB"
      },
      "id": "19CZYKGPe3nB",
      "execution_count": 3,
      "outputs": []
    },
    {
      "cell_type": "code",
      "source": [
        "\n",
        "!ollama pull llama3.1:8b\n",
        "from IPython.display import clear_output\n",
        "clear_output()\n"
      ],
      "metadata": {
        "id": "ijVIRQ-kfAUA"
      },
      "id": "ijVIRQ-kfAUA",
      "execution_count": null,
      "outputs": []
    },
    {
      "cell_type": "markdown",
      "source": [
        "### test Integrate LightRAG"
      ],
      "metadata": {
        "id": "n9Dq2mG0tfgV"
      },
      "id": "n9Dq2mG0tfgV"
    },
    {
      "cell_type": "code",
      "source": [
        "from lightrag.core.generator import Generator\n",
        "from lightrag.core.component import Component\n",
        "from lightrag.components.model_client import OllamaClient\n",
        "\n",
        "qa_template = r\"\"\"<SYS>\n",
        "You are a helpful assistant.\n",
        "</SYS>\n",
        "User: {{input_str}}\n",
        "You:\"\"\"\n",
        "\n",
        "class SimpleQA(Component):\n",
        "    def __init__(self, model_client, model_kwargs):\n",
        "        super().__init__()\n",
        "        self.generator = Generator(\n",
        "            model_client=model_client,\n",
        "            model_kwargs=model_kwargs,\n",
        "            template=qa_template,\n",
        "        )\n",
        "\n",
        "    def call(self, input: dict) -> str:\n",
        "        return self.generator.call({\"input_str\": str(input)})\n",
        "\n",
        "model = {\n",
        "    \"model_client\": OllamaClient(),\n",
        "    \"model_kwargs\": {\"model\": \"llama3.1:8b\"}\n",
        "}\n",
        "qa = SimpleQA(**model)\n",
        "output = qa.call(\"What is Standard Deviation?\")\n",
        "print(output)\n"
      ],
      "metadata": {
        "colab": {
          "base_uri": "https://localhost:8080/",
          "height": 385
        },
        "id": "nJEuI1Metmzd",
        "outputId": "5a300fc7-5c59-4ace-bd5e-0954e6a6800d"
      },
      "id": "nJEuI1Metmzd",
      "execution_count": null,
      "outputs": [
        {
          "output_type": "error",
          "ename": "ModuleNotFoundError",
          "evalue": "No module named 'lightrag'",
          "traceback": [
            "\u001b[0;31m---------------------------------------------------------------------------\u001b[0m",
            "\u001b[0;31mModuleNotFoundError\u001b[0m                       Traceback (most recent call last)",
            "\u001b[0;32m/tmp/ipython-input-466010430.py\u001b[0m in \u001b[0;36m<cell line: 0>\u001b[0;34m()\u001b[0m\n\u001b[0;32m----> 1\u001b[0;31m \u001b[0;32mfrom\u001b[0m \u001b[0mlightrag\u001b[0m\u001b[0;34m.\u001b[0m\u001b[0mcore\u001b[0m\u001b[0;34m.\u001b[0m\u001b[0mgenerator\u001b[0m \u001b[0;32mimport\u001b[0m \u001b[0mGenerator\u001b[0m\u001b[0;34m\u001b[0m\u001b[0;34m\u001b[0m\u001b[0m\n\u001b[0m\u001b[1;32m      2\u001b[0m \u001b[0;32mfrom\u001b[0m \u001b[0mlightrag\u001b[0m\u001b[0;34m.\u001b[0m\u001b[0mcore\u001b[0m\u001b[0;34m.\u001b[0m\u001b[0mcomponent\u001b[0m \u001b[0;32mimport\u001b[0m \u001b[0mComponent\u001b[0m\u001b[0;34m\u001b[0m\u001b[0;34m\u001b[0m\u001b[0m\n\u001b[1;32m      3\u001b[0m \u001b[0;32mfrom\u001b[0m \u001b[0mlightrag\u001b[0m\u001b[0;34m.\u001b[0m\u001b[0mcomponents\u001b[0m\u001b[0;34m.\u001b[0m\u001b[0mmodel_client\u001b[0m \u001b[0;32mimport\u001b[0m \u001b[0mOllamaClient\u001b[0m\u001b[0;34m\u001b[0m\u001b[0;34m\u001b[0m\u001b[0m\n\u001b[1;32m      4\u001b[0m \u001b[0;34m\u001b[0m\u001b[0m\n\u001b[1;32m      5\u001b[0m qa_template = r\"\"\"<SYS>\n",
            "\u001b[0;31mModuleNotFoundError\u001b[0m: No module named 'lightrag'",
            "",
            "\u001b[0;31m---------------------------------------------------------------------------\u001b[0;32m\nNOTE: If your import is failing due to a missing package, you can\nmanually install dependencies using either !pip or !apt.\n\nTo view examples of installing some common dependencies, click the\n\"Open Examples\" button below.\n\u001b[0;31m---------------------------------------------------------------------------\u001b[0m\n"
          ],
          "errorDetails": {
            "actions": [
              {
                "action": "open_url",
                "actionText": "Open Examples",
                "url": "/notebooks/snippets/importing_libraries.ipynb"
              }
            ]
          }
        }
      ]
    },
    {
      "cell_type": "markdown",
      "source": [
        "## try rag\n",
        "\n"
      ],
      "metadata": {
        "id": "AI94PnhyxgbA"
      },
      "id": "AI94PnhyxgbA"
    },
    {
      "cell_type": "markdown",
      "source": [
        "### download ollama and huggingface"
      ],
      "metadata": {
        "id": "7QA1qMi8yv0v"
      },
      "id": "7QA1qMi8yv0v"
    },
    {
      "cell_type": "code",
      "source": [
        "%%sh\n",
        "pip install llama-index-llms-ollama llama-index-embeddings-huggingface llama-index-readers-file lightrag"
      ],
      "metadata": {
        "collapsed": true,
        "colab": {
          "base_uri": "https://localhost:8080/"
        },
        "id": "OSapcIFXyz8p",
        "outputId": "9528a532-ab64-46bb-c778-7cb3633e799e"
      },
      "id": "OSapcIFXyz8p",
      "execution_count": 7,
      "outputs": [
        {
          "output_type": "stream",
          "name": "stdout",
          "text": [
            "Requirement already satisfied: llama-index-llms-ollama in /usr/local/lib/python3.12/dist-packages (0.7.1)\n",
            "Requirement already satisfied: llama-index-embeddings-huggingface in /usr/local/lib/python3.12/dist-packages (0.6.0)\n",
            "Collecting llama-index-readers-file\n",
            "  Downloading llama_index_readers_file-0.5.2-py3-none-any.whl.metadata (5.7 kB)\n",
            "Requirement already satisfied: llama-index-core<0.14,>=0.13.0 in /usr/local/lib/python3.12/dist-packages (from llama-index-llms-ollama) (0.13.3)\n",
            "Requirement already satisfied: ollama>=0.5.1 in /usr/local/lib/python3.12/dist-packages (from llama-index-llms-ollama) (0.5.3)\n",
            "Requirement already satisfied: huggingface-hub>=0.19.0 in /usr/local/lib/python3.12/dist-packages (from huggingface-hub[inference]>=0.19.0->llama-index-embeddings-huggingface) (0.34.4)\n",
            "Requirement already satisfied: sentence-transformers>=2.6.1 in /usr/local/lib/python3.12/dist-packages (from llama-index-embeddings-huggingface) (5.1.0)\n",
            "Requirement already satisfied: beautifulsoup4<5,>=4.12.3 in /usr/local/lib/python3.12/dist-packages (from llama-index-readers-file) (4.13.5)\n",
            "Requirement already satisfied: defusedxml>=0.7.1 in /usr/local/lib/python3.12/dist-packages (from llama-index-readers-file) (0.7.1)\n",
            "Requirement already satisfied: pandas<2.3.0 in /usr/local/lib/python3.12/dist-packages (from llama-index-readers-file) (2.2.2)\n",
            "Collecting pypdf<7,>=5.1.0 (from llama-index-readers-file)\n",
            "  Downloading pypdf-6.0.0-py3-none-any.whl.metadata (7.1 kB)\n",
            "Collecting striprtf<0.0.27,>=0.0.26 (from llama-index-readers-file)\n",
            "  Downloading striprtf-0.0.26-py3-none-any.whl.metadata (2.1 kB)\n",
            "Requirement already satisfied: soupsieve>1.2 in /usr/local/lib/python3.12/dist-packages (from beautifulsoup4<5,>=4.12.3->llama-index-readers-file) (2.7)\n",
            "Requirement already satisfied: typing-extensions>=4.0.0 in /usr/local/lib/python3.12/dist-packages (from beautifulsoup4<5,>=4.12.3->llama-index-readers-file) (4.15.0)\n",
            "Requirement already satisfied: filelock in /usr/local/lib/python3.12/dist-packages (from huggingface-hub>=0.19.0->huggingface-hub[inference]>=0.19.0->llama-index-embeddings-huggingface) (3.19.1)\n",
            "Requirement already satisfied: fsspec>=2023.5.0 in /usr/local/lib/python3.12/dist-packages (from huggingface-hub>=0.19.0->huggingface-hub[inference]>=0.19.0->llama-index-embeddings-huggingface) (2025.7.0)\n",
            "Requirement already satisfied: packaging>=20.9 in /usr/local/lib/python3.12/dist-packages (from huggingface-hub>=0.19.0->huggingface-hub[inference]>=0.19.0->llama-index-embeddings-huggingface) (25.0)\n",
            "Requirement already satisfied: pyyaml>=5.1 in /usr/local/lib/python3.12/dist-packages (from huggingface-hub>=0.19.0->huggingface-hub[inference]>=0.19.0->llama-index-embeddings-huggingface) (6.0.2)\n",
            "Requirement already satisfied: requests in /usr/local/lib/python3.12/dist-packages (from huggingface-hub>=0.19.0->huggingface-hub[inference]>=0.19.0->llama-index-embeddings-huggingface) (2.32.4)\n",
            "Requirement already satisfied: tqdm>=4.42.1 in /usr/local/lib/python3.12/dist-packages (from huggingface-hub>=0.19.0->huggingface-hub[inference]>=0.19.0->llama-index-embeddings-huggingface) (4.67.1)\n",
            "Requirement already satisfied: hf-xet<2.0.0,>=1.1.3 in /usr/local/lib/python3.12/dist-packages (from huggingface-hub>=0.19.0->huggingface-hub[inference]>=0.19.0->llama-index-embeddings-huggingface) (1.1.8)\n",
            "Requirement already satisfied: aiohttp in /usr/local/lib/python3.12/dist-packages (from huggingface-hub[inference]>=0.19.0->llama-index-embeddings-huggingface) (3.12.15)\n",
            "Requirement already satisfied: aiosqlite in /usr/local/lib/python3.12/dist-packages (from llama-index-core<0.14,>=0.13.0->llama-index-llms-ollama) (0.21.0)\n",
            "Requirement already satisfied: banks<3,>=2.2.0 in /usr/local/lib/python3.12/dist-packages (from llama-index-core<0.14,>=0.13.0->llama-index-llms-ollama) (2.2.0)\n",
            "Requirement already satisfied: dataclasses-json in /usr/local/lib/python3.12/dist-packages (from llama-index-core<0.14,>=0.13.0->llama-index-llms-ollama) (0.6.7)\n",
            "Requirement already satisfied: deprecated>=1.2.9.3 in /usr/local/lib/python3.12/dist-packages (from llama-index-core<0.14,>=0.13.0->llama-index-llms-ollama) (1.2.18)\n",
            "Requirement already satisfied: dirtyjson<2,>=1.0.8 in /usr/local/lib/python3.12/dist-packages (from llama-index-core<0.14,>=0.13.0->llama-index-llms-ollama) (1.0.8)\n",
            "Requirement already satisfied: filetype<2,>=1.2.0 in /usr/local/lib/python3.12/dist-packages (from llama-index-core<0.14,>=0.13.0->llama-index-llms-ollama) (1.2.0)\n",
            "Requirement already satisfied: httpx in /usr/local/lib/python3.12/dist-packages (from llama-index-core<0.14,>=0.13.0->llama-index-llms-ollama) (0.28.1)\n",
            "Requirement already satisfied: llama-index-workflows<2,>=1.0.1 in /usr/local/lib/python3.12/dist-packages (from llama-index-core<0.14,>=0.13.0->llama-index-llms-ollama) (1.3.0)\n",
            "Requirement already satisfied: nest-asyncio<2,>=1.5.8 in /usr/local/lib/python3.12/dist-packages (from llama-index-core<0.14,>=0.13.0->llama-index-llms-ollama) (1.6.0)\n",
            "Requirement already satisfied: networkx>=3.0 in /usr/local/lib/python3.12/dist-packages (from llama-index-core<0.14,>=0.13.0->llama-index-llms-ollama) (3.5)\n",
            "Requirement already satisfied: nltk>3.8.1 in /usr/local/lib/python3.12/dist-packages (from llama-index-core<0.14,>=0.13.0->llama-index-llms-ollama) (3.9.1)\n",
            "Requirement already satisfied: numpy in /usr/local/lib/python3.12/dist-packages (from llama-index-core<0.14,>=0.13.0->llama-index-llms-ollama) (2.0.2)\n",
            "Requirement already satisfied: pillow>=9.0.0 in /usr/local/lib/python3.12/dist-packages (from llama-index-core<0.14,>=0.13.0->llama-index-llms-ollama) (11.3.0)\n",
            "Requirement already satisfied: platformdirs in /usr/local/lib/python3.12/dist-packages (from llama-index-core<0.14,>=0.13.0->llama-index-llms-ollama) (4.3.8)\n",
            "Requirement already satisfied: pydantic>=2.8.0 in /usr/local/lib/python3.12/dist-packages (from llama-index-core<0.14,>=0.13.0->llama-index-llms-ollama) (2.11.7)\n",
            "Requirement already satisfied: setuptools>=80.9.0 in /usr/local/lib/python3.12/dist-packages (from llama-index-core<0.14,>=0.13.0->llama-index-llms-ollama) (80.9.0)\n",
            "Requirement already satisfied: sqlalchemy>=1.4.49 in /usr/local/lib/python3.12/dist-packages (from sqlalchemy[asyncio]>=1.4.49->llama-index-core<0.14,>=0.13.0->llama-index-llms-ollama) (2.0.43)\n",
            "Requirement already satisfied: tenacity!=8.4.0,<10.0.0,>=8.2.0 in /usr/local/lib/python3.12/dist-packages (from llama-index-core<0.14,>=0.13.0->llama-index-llms-ollama) (9.1.2)\n",
            "Requirement already satisfied: tiktoken>=0.7.0 in /usr/local/lib/python3.12/dist-packages (from llama-index-core<0.14,>=0.13.0->llama-index-llms-ollama) (0.11.0)\n",
            "Requirement already satisfied: typing-inspect>=0.8.0 in /usr/local/lib/python3.12/dist-packages (from llama-index-core<0.14,>=0.13.0->llama-index-llms-ollama) (0.9.0)\n",
            "Requirement already satisfied: wrapt in /usr/local/lib/python3.12/dist-packages (from llama-index-core<0.14,>=0.13.0->llama-index-llms-ollama) (1.17.3)\n",
            "Requirement already satisfied: python-dateutil>=2.8.2 in /usr/local/lib/python3.12/dist-packages (from pandas<2.3.0->llama-index-readers-file) (2.9.0.post0)\n",
            "Requirement already satisfied: pytz>=2020.1 in /usr/local/lib/python3.12/dist-packages (from pandas<2.3.0->llama-index-readers-file) (2025.2)\n",
            "Requirement already satisfied: tzdata>=2022.7 in /usr/local/lib/python3.12/dist-packages (from pandas<2.3.0->llama-index-readers-file) (2025.2)\n",
            "Requirement already satisfied: transformers<5.0.0,>=4.41.0 in /usr/local/lib/python3.12/dist-packages (from sentence-transformers>=2.6.1->llama-index-embeddings-huggingface) (4.55.4)\n",
            "Requirement already satisfied: torch>=1.11.0 in /usr/local/lib/python3.12/dist-packages (from sentence-transformers>=2.6.1->llama-index-embeddings-huggingface) (2.8.0+cpu)\n",
            "Requirement already satisfied: scikit-learn in /usr/local/lib/python3.12/dist-packages (from sentence-transformers>=2.6.1->llama-index-embeddings-huggingface) (1.6.1)\n",
            "Requirement already satisfied: scipy in /usr/local/lib/python3.12/dist-packages (from sentence-transformers>=2.6.1->llama-index-embeddings-huggingface) (1.16.1)\n",
            "Requirement already satisfied: aiohappyeyeballs>=2.5.0 in /usr/local/lib/python3.12/dist-packages (from aiohttp->huggingface-hub[inference]>=0.19.0->llama-index-embeddings-huggingface) (2.6.1)\n",
            "Requirement already satisfied: aiosignal>=1.4.0 in /usr/local/lib/python3.12/dist-packages (from aiohttp->huggingface-hub[inference]>=0.19.0->llama-index-embeddings-huggingface) (1.4.0)\n",
            "Requirement already satisfied: attrs>=17.3.0 in /usr/local/lib/python3.12/dist-packages (from aiohttp->huggingface-hub[inference]>=0.19.0->llama-index-embeddings-huggingface) (25.3.0)\n",
            "Requirement already satisfied: frozenlist>=1.1.1 in /usr/local/lib/python3.12/dist-packages (from aiohttp->huggingface-hub[inference]>=0.19.0->llama-index-embeddings-huggingface) (1.7.0)\n",
            "Requirement already satisfied: multidict<7.0,>=4.5 in /usr/local/lib/python3.12/dist-packages (from aiohttp->huggingface-hub[inference]>=0.19.0->llama-index-embeddings-huggingface) (6.6.4)\n",
            "Requirement already satisfied: propcache>=0.2.0 in /usr/local/lib/python3.12/dist-packages (from aiohttp->huggingface-hub[inference]>=0.19.0->llama-index-embeddings-huggingface) (0.3.2)\n",
            "Requirement already satisfied: yarl<2.0,>=1.17.0 in /usr/local/lib/python3.12/dist-packages (from aiohttp->huggingface-hub[inference]>=0.19.0->llama-index-embeddings-huggingface) (1.20.1)\n",
            "Requirement already satisfied: griffe in /usr/local/lib/python3.12/dist-packages (from banks<3,>=2.2.0->llama-index-core<0.14,>=0.13.0->llama-index-llms-ollama) (1.13.0)\n",
            "Requirement already satisfied: jinja2 in /usr/local/lib/python3.12/dist-packages (from banks<3,>=2.2.0->llama-index-core<0.14,>=0.13.0->llama-index-llms-ollama) (3.1.6)\n",
            "Requirement already satisfied: anyio in /usr/local/lib/python3.12/dist-packages (from httpx->llama-index-core<0.14,>=0.13.0->llama-index-llms-ollama) (4.10.0)\n",
            "Requirement already satisfied: certifi in /usr/local/lib/python3.12/dist-packages (from httpx->llama-index-core<0.14,>=0.13.0->llama-index-llms-ollama) (2025.8.3)\n",
            "Requirement already satisfied: httpcore==1.* in /usr/local/lib/python3.12/dist-packages (from httpx->llama-index-core<0.14,>=0.13.0->llama-index-llms-ollama) (1.0.9)\n",
            "Requirement already satisfied: idna in /usr/local/lib/python3.12/dist-packages (from httpx->llama-index-core<0.14,>=0.13.0->llama-index-llms-ollama) (3.10)\n",
            "Requirement already satisfied: h11>=0.16 in /usr/local/lib/python3.12/dist-packages (from httpcore==1.*->httpx->llama-index-core<0.14,>=0.13.0->llama-index-llms-ollama) (0.16.0)\n",
            "Requirement already satisfied: llama-index-instrumentation>=0.1.0 in /usr/local/lib/python3.12/dist-packages (from llama-index-workflows<2,>=1.0.1->llama-index-core<0.14,>=0.13.0->llama-index-llms-ollama) (0.4.0)\n",
            "Requirement already satisfied: click in /usr/local/lib/python3.12/dist-packages (from nltk>3.8.1->llama-index-core<0.14,>=0.13.0->llama-index-llms-ollama) (8.2.1)\n",
            "Requirement already satisfied: joblib in /usr/local/lib/python3.12/dist-packages (from nltk>3.8.1->llama-index-core<0.14,>=0.13.0->llama-index-llms-ollama) (1.5.1)\n",
            "Requirement already satisfied: regex>=2021.8.3 in /usr/local/lib/python3.12/dist-packages (from nltk>3.8.1->llama-index-core<0.14,>=0.13.0->llama-index-llms-ollama) (2025.7.34)\n",
            "Requirement already satisfied: annotated-types>=0.6.0 in /usr/local/lib/python3.12/dist-packages (from pydantic>=2.8.0->llama-index-core<0.14,>=0.13.0->llama-index-llms-ollama) (0.7.0)\n",
            "Requirement already satisfied: pydantic-core==2.33.2 in /usr/local/lib/python3.12/dist-packages (from pydantic>=2.8.0->llama-index-core<0.14,>=0.13.0->llama-index-llms-ollama) (2.33.2)\n",
            "Requirement already satisfied: typing-inspection>=0.4.0 in /usr/local/lib/python3.12/dist-packages (from pydantic>=2.8.0->llama-index-core<0.14,>=0.13.0->llama-index-llms-ollama) (0.4.1)\n",
            "Requirement already satisfied: six>=1.5 in /usr/local/lib/python3.12/dist-packages (from python-dateutil>=2.8.2->pandas<2.3.0->llama-index-readers-file) (1.17.0)\n",
            "Requirement already satisfied: charset_normalizer<4,>=2 in /usr/local/lib/python3.12/dist-packages (from requests->huggingface-hub>=0.19.0->huggingface-hub[inference]>=0.19.0->llama-index-embeddings-huggingface) (3.4.3)\n",
            "Requirement already satisfied: urllib3<3,>=1.21.1 in /usr/local/lib/python3.12/dist-packages (from requests->huggingface-hub>=0.19.0->huggingface-hub[inference]>=0.19.0->llama-index-embeddings-huggingface) (2.5.0)\n",
            "Requirement already satisfied: greenlet>=1 in /usr/local/lib/python3.12/dist-packages (from sqlalchemy>=1.4.49->sqlalchemy[asyncio]>=1.4.49->llama-index-core<0.14,>=0.13.0->llama-index-llms-ollama) (3.2.4)\n",
            "Requirement already satisfied: sympy>=1.13.3 in /usr/local/lib/python3.12/dist-packages (from torch>=1.11.0->sentence-transformers>=2.6.1->llama-index-embeddings-huggingface) (1.14.0)\n",
            "Requirement already satisfied: tokenizers<0.22,>=0.21 in /usr/local/lib/python3.12/dist-packages (from transformers<5.0.0,>=4.41.0->sentence-transformers>=2.6.1->llama-index-embeddings-huggingface) (0.21.4)\n",
            "Requirement already satisfied: safetensors>=0.4.3 in /usr/local/lib/python3.12/dist-packages (from transformers<5.0.0,>=4.41.0->sentence-transformers>=2.6.1->llama-index-embeddings-huggingface) (0.6.2)\n",
            "Requirement already satisfied: mypy-extensions>=0.3.0 in /usr/local/lib/python3.12/dist-packages (from typing-inspect>=0.8.0->llama-index-core<0.14,>=0.13.0->llama-index-llms-ollama) (1.1.0)\n",
            "Requirement already satisfied: marshmallow<4.0.0,>=3.18.0 in /usr/local/lib/python3.12/dist-packages (from dataclasses-json->llama-index-core<0.14,>=0.13.0->llama-index-llms-ollama) (3.26.1)\n",
            "Requirement already satisfied: threadpoolctl>=3.1.0 in /usr/local/lib/python3.12/dist-packages (from scikit-learn->sentence-transformers>=2.6.1->llama-index-embeddings-huggingface) (3.6.0)\n",
            "Requirement already satisfied: mpmath<1.4,>=1.1.0 in /usr/local/lib/python3.12/dist-packages (from sympy>=1.13.3->torch>=1.11.0->sentence-transformers>=2.6.1->llama-index-embeddings-huggingface) (1.3.0)\n",
            "Requirement already satisfied: sniffio>=1.1 in /usr/local/lib/python3.12/dist-packages (from anyio->httpx->llama-index-core<0.14,>=0.13.0->llama-index-llms-ollama) (1.3.1)\n",
            "Requirement already satisfied: colorama>=0.4 in /usr/local/lib/python3.12/dist-packages (from griffe->banks<3,>=2.2.0->llama-index-core<0.14,>=0.13.0->llama-index-llms-ollama) (0.4.6)\n",
            "Requirement already satisfied: MarkupSafe>=2.0 in /usr/local/lib/python3.12/dist-packages (from jinja2->banks<3,>=2.2.0->llama-index-core<0.14,>=0.13.0->llama-index-llms-ollama) (3.0.2)\n",
            "Downloading llama_index_readers_file-0.5.2-py3-none-any.whl (51 kB)\n",
            "   ━━━━━━━━━━━━━━━━━━━━━━━━━━━━━━━━━━━━━━━━ 51.8/51.8 kB 1.9 MB/s eta 0:00:00\n",
            "Downloading pypdf-6.0.0-py3-none-any.whl (310 kB)\n",
            "   ━━━━━━━━━━━━━━━━━━━━━━━━━━━━━━━━━━━━━━━━ 310.5/310.5 kB 9.1 MB/s eta 0:00:00\n",
            "Downloading striprtf-0.0.26-py3-none-any.whl (6.9 kB)\n",
            "Installing collected packages: striprtf, pypdf, llama-index-readers-file\n",
            "Successfully installed llama-index-readers-file-0.5.2 pypdf-6.0.0 striprtf-0.0.26\n"
          ]
        }
      ]
    },
    {
      "cell_type": "markdown",
      "source": [
        "### try first basic agent example\n",
        "\n"
      ],
      "metadata": {
        "id": "QrTxYsuXzJuP"
      },
      "id": "QrTxYsuXzJuP"
    },
    {
      "cell_type": "code",
      "source": [
        "# upload make py file as starter\n",
        "!python starter.py"
      ],
      "metadata": {
        "colab": {
          "base_uri": "https://localhost:8080/"
        },
        "id": "MeUCN85Fyk0v",
        "outputId": "dccab18d-5210-44a3-88bc-fc969309e8ca"
      },
      "id": "MeUCN85Fyk0v",
      "execution_count": null,
      "outputs": [
        {
          "output_type": "stream",
          "name": "stdout",
          "text": [
            "The result of multiplying 1234 by 4567 is 5,635,678.\n"
          ]
        }
      ]
    },
    {
      "cell_type": "markdown",
      "source": [
        "### add rag capability"
      ],
      "metadata": {
        "id": "_jq8f6J7X6rk"
      },
      "id": "_jq8f6J7X6rk"
    },
    {
      "cell_type": "code",
      "source": [
        "%%sh\n",
        "# related data\n",
        "mkdir data\n",
        "wget https://raw.githubusercontent.com/run-llama/llama_index/main/docs/docs/examples/data/paul_graham/paul_graham_essay.txt -O data/paul_graham_essay.txt"
      ],
      "metadata": {
        "colab": {
          "base_uri": "https://localhost:8080/"
        },
        "id": "dqNL25OCYIRT",
        "outputId": "2f675bb1-c040-4a68-c448-baca1772830f"
      },
      "id": "dqNL25OCYIRT",
      "execution_count": 3,
      "outputs": [
        {
          "output_type": "stream",
          "name": "stderr",
          "text": [
            "--2025-09-01 13:04:23--  https://raw.githubusercontent.com/run-llama/llama_index/main/docs/docs/examples/data/paul_graham/paul_graham_essay.txt\n",
            "Resolving raw.githubusercontent.com (raw.githubusercontent.com)... 185.199.108.133, 185.199.109.133, 185.199.110.133, ...\n",
            "Connecting to raw.githubusercontent.com (raw.githubusercontent.com)|185.199.108.133|:443... connected.\n",
            "HTTP request sent, awaiting response... 200 OK\n",
            "Length: 75042 (73K) [text/plain]\n",
            "Saving to: ‘data/paul_graham_essay.txt’\n",
            "\n",
            "     0K .......... .......... .......... .......... .......... 68% 2.32M 0s\n",
            "    50K .......... .......... ...                             100% 13.6M=0.02s\n",
            "\n",
            "2025-09-01 13:04:23 (3.15 MB/s) - ‘data/paul_graham_essay.txt’ saved [75042/75042]\n",
            "\n"
          ]
        }
      ]
    },
    {
      "cell_type": "markdown",
      "source": [
        "upload the starter.py\n"
      ],
      "metadata": {
        "id": "SDvK9VuBZLSk"
      },
      "id": "SDvK9VuBZLSk"
    },
    {
      "cell_type": "code",
      "source": [
        "!python starter.py"
      ],
      "metadata": {
        "colab": {
          "base_uri": "https://localhost:8080/"
        },
        "id": "WkFvOAs2ZQD8",
        "outputId": "85f86340-653d-4770-d8ee-8cc291da1465"
      },
      "id": "WkFvOAs2ZQD8",
      "execution_count": 1,
      "outputs": [
        {
          "output_type": "stream",
          "name": "stdout",
          "text": [
            "/usr/local/lib/python3.12/dist-packages/google/__init__.py:18: UserWarning: pkg_resources is deprecated as an API. See https://setuptools.pypa.io/en/latest/pkg_resources.html. The pkg_resources package is slated for removal as early as 2025-11-30. Refrain from using this package or pin to Setuptools<81.\n",
            "  import pkg_resources\n",
            "Traceback (most recent call last):\n",
            "  File \"/usr/local/lib/python3.12/dist-packages/httpx/_transports/default.py\", line 101, in map_httpcore_exceptions\n",
            "    yield\n",
            "  File \"/usr/local/lib/python3.12/dist-packages/httpx/_transports/default.py\", line 394, in handle_async_request\n",
            "    resp = await self._pool.handle_async_request(req)\n",
            "           ^^^^^^^^^^^^^^^^^^^^^^^^^^^^^^^^^^^^^^^^^^\n",
            "  File \"/usr/local/lib/python3.12/dist-packages/httpcore/_async/connection_pool.py\", line 256, in handle_async_request\n",
            "    raise exc from None\n",
            "  File \"/usr/local/lib/python3.12/dist-packages/httpcore/_async/connection_pool.py\", line 236, in handle_async_request\n",
            "    response = await connection.handle_async_request(\n",
            "               ^^^^^^^^^^^^^^^^^^^^^^^^^^^^^^^^^^^^^^\n",
            "  File \"/usr/local/lib/python3.12/dist-packages/httpcore/_async/connection.py\", line 101, in handle_async_request\n",
            "    raise exc\n",
            "  File \"/usr/local/lib/python3.12/dist-packages/httpcore/_async/connection.py\", line 78, in handle_async_request\n",
            "    stream = await self._connect(request)\n",
            "             ^^^^^^^^^^^^^^^^^^^^^^^^^^^^\n",
            "  File \"/usr/local/lib/python3.12/dist-packages/httpcore/_async/connection.py\", line 124, in _connect\n",
            "    stream = await self._network_backend.connect_tcp(**kwargs)\n",
            "             ^^^^^^^^^^^^^^^^^^^^^^^^^^^^^^^^^^^^^^^^^^^^^^^^^\n",
            "  File \"/usr/local/lib/python3.12/dist-packages/httpcore/_backends/auto.py\", line 31, in connect_tcp\n",
            "    return await self._backend.connect_tcp(\n",
            "           ^^^^^^^^^^^^^^^^^^^^^^^^^^^^^^^^\n",
            "  File \"/usr/local/lib/python3.12/dist-packages/httpcore/_backends/anyio.py\", line 113, in connect_tcp\n",
            "    with map_exceptions(exc_map):\n",
            "         ^^^^^^^^^^^^^^^^^^^^^^^\n",
            "  File \"/usr/lib/python3.12/contextlib.py\", line 158, in __exit__\n",
            "    self.gen.throw(value)\n",
            "  File \"/usr/local/lib/python3.12/dist-packages/httpcore/_exceptions.py\", line 14, in map_exceptions\n",
            "    raise to_exc(exc) from exc\n",
            "httpcore.ConnectError: All connection attempts failed\n",
            "\n",
            "The above exception was the direct cause of the following exception:\n",
            "\n",
            "Traceback (most recent call last):\n",
            "  File \"/usr/local/lib/python3.12/dist-packages/workflows/context/context.py\", line 696, in _step_worker\n",
            "    new_ev = await instrumented_step(**kwargs)\n",
            "             ^^^^^^^^^^^^^^^^^^^^^^^^^^^^^^^^^\n",
            "  File \"/usr/local/lib/python3.12/dist-packages/llama_index_instrumentation/dispatcher.py\", line 368, in async_wrapper\n",
            "    result = await func(*args, **kwargs)\n",
            "             ^^^^^^^^^^^^^^^^^^^^^^^^^^^\n",
            "  File \"/usr/local/lib/python3.12/dist-packages/llama_index/core/agent/workflow/multi_agent_workflow.py\", line 411, in run_agent_step\n",
            "    agent_output = await agent.take_step(\n",
            "                   ^^^^^^^^^^^^^^^^^^^^^^\n",
            "  File \"/usr/local/lib/python3.12/dist-packages/llama_index/core/agent/workflow/function_agent.py\", line 90, in take_step\n",
            "    last_chat_response = await self._get_streaming_response(\n",
            "                         ^^^^^^^^^^^^^^^^^^^^^^^^^^^^^^^^^^^\n",
            "  File \"/usr/local/lib/python3.12/dist-packages/llama_index/core/agent/workflow/function_agent.py\", line 48, in _get_streaming_response\n",
            "    async for last_chat_response in response:\n",
            "  File \"/usr/local/lib/python3.12/dist-packages/llama_index/core/llms/callbacks.py\", line 89, in wrapped_gen\n",
            "    async for x in f_return_val:\n",
            "  File \"/usr/local/lib/python3.12/dist-packages/llama_index/llms/ollama/base.py\", line 470, in gen\n",
            "    async for r in response:\n",
            "  File \"/usr/local/lib/python3.12/dist-packages/ollama/_client.py\", line 677, in inner\n",
            "    async with self._client.stream(*args, **kwargs) as r:\n",
            "               ^^^^^^^^^^^^^^^^^^^^^^^^^^^^^^^^^^^^\n",
            "  File \"/usr/lib/python3.12/contextlib.py\", line 210, in __aenter__\n",
            "    return await anext(self.gen)\n",
            "           ^^^^^^^^^^^^^^^^^^^^^\n",
            "  File \"/usr/local/lib/python3.12/dist-packages/httpx/_client.py\", line 1583, in stream\n",
            "    response = await self.send(\n",
            "               ^^^^^^^^^^^^^^^^\n",
            "  File \"/usr/local/lib/python3.12/dist-packages/httpx/_client.py\", line 1629, in send\n",
            "    response = await self._send_handling_auth(\n",
            "               ^^^^^^^^^^^^^^^^^^^^^^^^^^^^^^^\n",
            "  File \"/usr/local/lib/python3.12/dist-packages/httpx/_client.py\", line 1657, in _send_handling_auth\n",
            "    response = await self._send_handling_redirects(\n",
            "               ^^^^^^^^^^^^^^^^^^^^^^^^^^^^^^^^^^^^\n",
            "  File \"/usr/local/lib/python3.12/dist-packages/httpx/_client.py\", line 1694, in _send_handling_redirects\n",
            "    response = await self._send_single_request(request)\n",
            "               ^^^^^^^^^^^^^^^^^^^^^^^^^^^^^^^^^^^^^^^^\n",
            "  File \"/usr/local/lib/python3.12/dist-packages/httpx/_client.py\", line 1730, in _send_single_request\n",
            "    response = await transport.handle_async_request(request)\n",
            "               ^^^^^^^^^^^^^^^^^^^^^^^^^^^^^^^^^^^^^^^^^^^^^\n",
            "  File \"/usr/local/lib/python3.12/dist-packages/httpx/_transports/default.py\", line 393, in handle_async_request\n",
            "    with map_httpcore_exceptions():\n",
            "         ^^^^^^^^^^^^^^^^^^^^^^^^^\n",
            "  File \"/usr/lib/python3.12/contextlib.py\", line 158, in __exit__\n",
            "    self.gen.throw(value)\n",
            "  File \"/usr/local/lib/python3.12/dist-packages/httpx/_transports/default.py\", line 118, in map_httpcore_exceptions\n",
            "    raise mapped_exc(message) from exc\n",
            "httpx.ConnectError: All connection attempts failed\n",
            "\n",
            "The above exception was the direct cause of the following exception:\n",
            "\n",
            "Traceback (most recent call last):\n",
            "  File \"/content/starter.py\", line 60, in <module>\n",
            "    asyncio.run(main())\n",
            "  File \"/usr/lib/python3.12/asyncio/runners.py\", line 195, in run\n",
            "    return runner.run(main)\n",
            "           ^^^^^^^^^^^^^^^^\n",
            "  File \"/usr/lib/python3.12/asyncio/runners.py\", line 118, in run\n",
            "    return self._loop.run_until_complete(task)\n",
            "           ^^^^^^^^^^^^^^^^^^^^^^^^^^^^^^^^^^^\n",
            "  File \"/usr/lib/python3.12/asyncio/base_events.py\", line 691, in run_until_complete\n",
            "    return future.result()\n",
            "           ^^^^^^^^^^^^^^^\n",
            "  File \"/content/starter.py\", line 52, in main\n",
            "    response = await agent.run(\n",
            "               ^^^^^^^^^^^^^^^^\n",
            "  File \"/usr/local/lib/python3.12/dist-packages/workflows/workflow.py\", line 479, in _run_workflow\n",
            "    raise exception_raised\n",
            "  File \"/usr/local/lib/python3.12/dist-packages/workflows/context/context.py\", line 705, in _step_worker\n",
            "    raise WorkflowRuntimeError(\n",
            "workflows.errors.WorkflowRuntimeError: Error in step 'run_agent_step': All connection attempts failed\n"
          ]
        }
      ]
    },
    {
      "cell_type": "markdown",
      "source": [
        "##\n"
      ],
      "metadata": {
        "id": "SV7gelZly3ko"
      },
      "id": "SV7gelZly3ko"
    },
    {
      "cell_type": "code",
      "source": [],
      "metadata": {
        "id": "G6e8W0lWZOxk"
      },
      "id": "G6e8W0lWZOxk",
      "execution_count": null,
      "outputs": []
    },
    {
      "cell_type": "markdown",
      "id": "5325ac27-38ea-47aa-afef-be4ec4f8f4b9",
      "metadata": {
        "id": "5325ac27-38ea-47aa-afef-be4ec4f8f4b9"
      },
      "source": [
        "# Auto Merging Retriever\n",
        "\n",
        "In this notebook, we showcase our `AutoMergingRetriever`, which looks at a set of leaf nodes and recursively \"merges\" subsets of leaf nodes that reference a parent node beyond a given threshold. This allows us to consolidate potentially disparate, smaller contexts into a larger context that might help synthesis.\n",
        "\n",
        "You can define this hierarchy yourself over a set of documents, or you can make use of our brand-new text parser: a HierarchicalNodeParser that takes in a candidate set of documents and outputs an entire hierarchy of nodes, from \"coarse-to-fine\"."
      ]
    },
    {
      "cell_type": "code",
      "execution_count": null,
      "id": "0a15c0d4",
      "metadata": {
        "id": "0a15c0d4"
      },
      "outputs": [],
      "source": [
        "%pip install llama-index-llms-openai\n",
        "%pip install llama-index-readers-file pymupdf"
      ]
    },
    {
      "cell_type": "code",
      "execution_count": null,
      "id": "7ee0e185-408a-4c9c-a361-b6af96129b0d",
      "metadata": {
        "id": "7ee0e185-408a-4c9c-a361-b6af96129b0d"
      },
      "outputs": [],
      "source": [
        "%load_ext autoreload\n",
        "%autoreload 2"
      ]
    },
    {
      "cell_type": "markdown",
      "id": "b9fbdc26",
      "metadata": {
        "id": "b9fbdc26"
      },
      "source": [
        "If you're opening this Notebook on colab, you will probably need to install LlamaIndex 🦙."
      ]
    },
    {
      "cell_type": "code",
      "execution_count": null,
      "id": "06c89955",
      "metadata": {
        "id": "06c89955"
      },
      "outputs": [],
      "source": [
        "!pip install llama-index"
      ]
    },
    {
      "cell_type": "markdown",
      "id": "7e1316ac-84ca-41d0-80f9-d4ef758e653c",
      "metadata": {
        "id": "7e1316ac-84ca-41d0-80f9-d4ef758e653c"
      },
      "source": [
        "## Load Data\n",
        "\n",
        "Let's first load the Llama 2 paper: https://arxiv.org/pdf/2307.09288.pdf. This will be our test data."
      ]
    },
    {
      "cell_type": "code",
      "execution_count": null,
      "id": "80372299-ab32-4ddd-9b88-05c877120c17",
      "metadata": {
        "id": "80372299-ab32-4ddd-9b88-05c877120c17"
      },
      "outputs": [],
      "source": [
        "!mkdir -p 'data/'\n",
        "!wget --user-agent \"Mozilla\" \"https://arxiv.org/pdf/2307.09288.pdf\" -O \"data/llama2.pdf\""
      ]
    },
    {
      "cell_type": "code",
      "execution_count": null,
      "id": "5f9c5d99-bd0e-4b26-b816-9f5ad29df3c8",
      "metadata": {
        "id": "5f9c5d99-bd0e-4b26-b816-9f5ad29df3c8"
      },
      "outputs": [],
      "source": [
        "from pathlib import Path\n",
        "\n",
        "from llama_index.readers.file import PDFReader\n",
        "from llama_index.readers.file import PyMuPDFReader"
      ]
    },
    {
      "cell_type": "code",
      "execution_count": null,
      "id": "723f1f02-2157-4166-b013-90e627c76530",
      "metadata": {
        "id": "723f1f02-2157-4166-b013-90e627c76530"
      },
      "outputs": [],
      "source": [
        "loader = PyMuPDFReader()\n",
        "# docs0 = loader.load_data(file=Path(\"./data/llama2.pdf\"))\n",
        "docs0 = loader.load(file_path=Path(\"./data/llama2.pdf\"))"
      ]
    },
    {
      "cell_type": "markdown",
      "id": "ff7a8552-f347-45b0-b4a0-4f9b32be57ac",
      "metadata": {
        "id": "ff7a8552-f347-45b0-b4a0-4f9b32be57ac"
      },
      "source": [
        "By default, the PDF reader creates a separate doc for each page.\n",
        "For the sake of this notebook, we stitch docs together into one doc.\n",
        "This will help us better highlight auto-merging capabilities that \"stitch\" chunks together later on."
      ]
    },
    {
      "cell_type": "code",
      "execution_count": null,
      "id": "a75c4217-ab50-417f-a8ed-3b746a9956c8",
      "metadata": {
        "id": "a75c4217-ab50-417f-a8ed-3b746a9956c8"
      },
      "outputs": [],
      "source": [
        "from llama_index.core import Document\n",
        "\n",
        "doc_text = \"\\n\\n\".join([d.get_content() for d in docs0])\n",
        "docs = [Document(text=doc_text)]"
      ]
    },
    {
      "cell_type": "markdown",
      "id": "724fe6f1-80e1-4ac5-bd99-8b9b8d15bddd",
      "metadata": {
        "id": "724fe6f1-80e1-4ac5-bd99-8b9b8d15bddd"
      },
      "source": [
        "## Parse Chunk Hierarchy from Text, Load into Storage\n",
        "\n",
        "In this section we make use of the `HierarchicalNodeParser`. This will output a hierarchy of nodes, from top-level nodes with bigger chunk sizes to child nodes with smaller chunk sizes, where each child node has a parent node with a bigger chunk size.\n",
        "\n",
        "By default, the hierarchy is:\n",
        "- 1st level: chunk size 2048\n",
        "- 2nd level: chunk size 512\n",
        "- 3rd level: chunk size 128\n",
        "\n",
        "\n",
        "We then load these nodes into storage. The leaf nodes are indexed and retrieved via a vector store - these are the nodes that will first be directly retrieved via similarity search. The other nodes will be retrieved from a docstore."
      ]
    },
    {
      "cell_type": "code",
      "execution_count": null,
      "id": "45e783f5-a323-4f51-ae9a-4b71b00e5e11",
      "metadata": {
        "id": "45e783f5-a323-4f51-ae9a-4b71b00e5e11"
      },
      "outputs": [],
      "source": [
        "from llama_index.core.node_parser import (\n",
        "    HierarchicalNodeParser,\n",
        "    SentenceSplitter,\n",
        ")"
      ]
    },
    {
      "cell_type": "code",
      "execution_count": null,
      "id": "2c3947df-25c2-4254-a3d4-381d136f3f77",
      "metadata": {
        "id": "2c3947df-25c2-4254-a3d4-381d136f3f77"
      },
      "outputs": [],
      "source": [
        "node_parser = HierarchicalNodeParser.from_defaults()"
      ]
    },
    {
      "cell_type": "code",
      "execution_count": null,
      "id": "2162b309-dfc5-484b-a31c-24f705316f10",
      "metadata": {
        "id": "2162b309-dfc5-484b-a31c-24f705316f10"
      },
      "outputs": [],
      "source": [
        "nodes = node_parser.get_nodes_from_documents(docs)"
      ]
    },
    {
      "cell_type": "code",
      "execution_count": null,
      "id": "a9b5bc9b-389d-47db-a41c-3eb5b3d38ac5",
      "metadata": {
        "id": "a9b5bc9b-389d-47db-a41c-3eb5b3d38ac5",
        "outputId": "3a4563b4-47da-40d0-89d6-2dcdfadfcb3b"
      },
      "outputs": [
        {
          "data": {
            "text/plain": [
              "1029"
            ]
          },
          "execution_count": null,
          "metadata": {},
          "output_type": "execute_result"
        }
      ],
      "source": [
        "len(nodes)"
      ]
    },
    {
      "cell_type": "markdown",
      "id": "a7456b70-1803-4786-86d5-26e202e0f318",
      "metadata": {
        "id": "a7456b70-1803-4786-86d5-26e202e0f318"
      },
      "source": [
        "Here we import a simple helper function for fetching \"leaf\" nodes within a node list.\n",
        "These are nodes that don't have children of their own."
      ]
    },
    {
      "cell_type": "code",
      "execution_count": null,
      "id": "7299ca7e-09b6-432f-a277-aae9eca0522a",
      "metadata": {
        "id": "7299ca7e-09b6-432f-a277-aae9eca0522a"
      },
      "outputs": [],
      "source": [
        "from llama_index.core.node_parser import get_leaf_nodes, get_root_nodes"
      ]
    },
    {
      "cell_type": "code",
      "execution_count": null,
      "id": "faeb37a8-aea9-4ee8-b6c0-3b2f188d244e",
      "metadata": {
        "id": "faeb37a8-aea9-4ee8-b6c0-3b2f188d244e"
      },
      "outputs": [],
      "source": [
        "leaf_nodes = get_leaf_nodes(nodes)"
      ]
    },
    {
      "cell_type": "code",
      "execution_count": null,
      "id": "7c33b5a8-4d9f-481e-8616-fc8717900159",
      "metadata": {
        "id": "7c33b5a8-4d9f-481e-8616-fc8717900159",
        "outputId": "c51724a7-ba35-4360-ede2-68a2688b7be3"
      },
      "outputs": [
        {
          "data": {
            "text/plain": [
              "795"
            ]
          },
          "execution_count": null,
          "metadata": {},
          "output_type": "execute_result"
        }
      ],
      "source": [
        "len(leaf_nodes)"
      ]
    },
    {
      "cell_type": "code",
      "execution_count": null,
      "id": "b28b0aff-db6e-495e-8c58-36db29edb45b",
      "metadata": {
        "id": "b28b0aff-db6e-495e-8c58-36db29edb45b"
      },
      "outputs": [],
      "source": [
        "root_nodes = get_root_nodes(nodes)"
      ]
    },
    {
      "cell_type": "markdown",
      "id": "c36ec940-8af7-45f5-9994-919d57583c24",
      "metadata": {
        "id": "c36ec940-8af7-45f5-9994-919d57583c24"
      },
      "source": [
        "### Load into Storage\n",
        "\n",
        "We define a docstore, which we load all nodes into.\n",
        "\n",
        "We then define a `VectorStoreIndex` containing just the leaf-level nodes."
      ]
    },
    {
      "cell_type": "code",
      "execution_count": null,
      "id": "27c8f2cd-3e04-4feb-937b-b9ee33e1c2fd",
      "metadata": {
        "id": "27c8f2cd-3e04-4feb-937b-b9ee33e1c2fd"
      },
      "outputs": [],
      "source": [
        "# define storage context\n",
        "from llama_index.core.storage.docstore import SimpleDocumentStore\n",
        "from llama_index.core import StorageContext\n",
        "from llama_index.llms.openai import OpenAI\n",
        "\n",
        "docstore = SimpleDocumentStore()\n",
        "\n",
        "# insert nodes into docstore\n",
        "docstore.add_documents(nodes)\n",
        "\n",
        "# define storage context (will include vector store by default too)\n",
        "storage_context = StorageContext.from_defaults(docstore=docstore)\n",
        "\n",
        "llm = OpenAI(model=\"gpt-3.5-turbo\")"
      ]
    },
    {
      "cell_type": "code",
      "execution_count": null,
      "id": "827ece8e-7a4b-4ee1-8ee2-3433d7f2072a",
      "metadata": {
        "id": "827ece8e-7a4b-4ee1-8ee2-3433d7f2072a"
      },
      "outputs": [],
      "source": [
        "## Load index into vector index\n",
        "from llama_index.core import VectorStoreIndex\n",
        "\n",
        "base_index = VectorStoreIndex(\n",
        "    leaf_nodes,\n",
        "    storage_context=storage_context,\n",
        ")"
      ]
    },
    {
      "cell_type": "markdown",
      "id": "05d84c19-c9ac-4294-a000-264c3c02427b",
      "metadata": {
        "id": "05d84c19-c9ac-4294-a000-264c3c02427b"
      },
      "source": [
        "## Define Retriever"
      ]
    },
    {
      "cell_type": "code",
      "execution_count": null,
      "id": "e61682a0-dd3c-400b-8734-35d5d0a98252",
      "metadata": {
        "id": "e61682a0-dd3c-400b-8734-35d5d0a98252"
      },
      "outputs": [],
      "source": [
        "from llama_index.core.retrievers import AutoMergingRetriever"
      ]
    },
    {
      "cell_type": "code",
      "execution_count": null,
      "id": "f96fd0bc-c6c0-4073-a692-d1803cf4289f",
      "metadata": {
        "id": "f96fd0bc-c6c0-4073-a692-d1803cf4289f"
      },
      "outputs": [],
      "source": [
        "base_retriever = base_index.as_retriever(similarity_top_k=6)\n",
        "retriever = AutoMergingRetriever(base_retriever, storage_context, verbose=True)"
      ]
    },
    {
      "cell_type": "code",
      "execution_count": null,
      "id": "62f655cd-4195-4398-80e5-5aa561982d25",
      "metadata": {
        "id": "62f655cd-4195-4398-80e5-5aa561982d25",
        "outputId": "7a903573-7ac5-4f20-aa29-a77ec7ebd18f"
      },
      "outputs": [
        {
          "name": "stdout",
          "output_type": "stream",
          "text": [
            "> Merging 4 nodes into parent node.\n",
            "> Parent node id: caf5f81c-842f-46a4-b679-6be584bd6aff.\n",
            "> Parent node text: We conduct RLHF by first collecting human preference data for safety similar to Section 3.2.2: an...\n"
          ]
        }
      ],
      "source": [
        "# query_str = \"What were some lessons learned from red-teaming?\"\n",
        "# query_str = \"Can you tell me about the key concepts for safety finetuning\"\n",
        "query_str = (\n",
        "    \"What could be the potential outcomes of adjusting the amount of safety\"\n",
        "    \" data used in the RLHF stage?\"\n",
        ")\n",
        "\n",
        "nodes = retriever.retrieve(query_str)\n",
        "base_nodes = base_retriever.retrieve(query_str)"
      ]
    },
    {
      "cell_type": "code",
      "execution_count": null,
      "id": "77eabc56-2009-4504-8832-b6d857bd43a4",
      "metadata": {
        "id": "77eabc56-2009-4504-8832-b6d857bd43a4",
        "outputId": "6894f098-e975-468e-9e29-2c9f3c8e1c99"
      },
      "outputs": [
        {
          "data": {
            "text/plain": [
              "3"
            ]
          },
          "execution_count": null,
          "metadata": {},
          "output_type": "execute_result"
        }
      ],
      "source": [
        "len(nodes)"
      ]
    },
    {
      "cell_type": "code",
      "execution_count": null,
      "id": "3a82690a-263a-4e48-ab27-b161e72cb983",
      "metadata": {
        "id": "3a82690a-263a-4e48-ab27-b161e72cb983",
        "outputId": "83cd610c-0155-4d57-a264-e47e081cc529"
      },
      "outputs": [
        {
          "data": {
            "text/plain": [
              "6"
            ]
          },
          "execution_count": null,
          "metadata": {},
          "output_type": "execute_result"
        }
      ],
      "source": [
        "len(base_nodes)"
      ]
    },
    {
      "cell_type": "code",
      "execution_count": null,
      "id": "0d482b22-fd38-476b-821f-0c77564815c3",
      "metadata": {
        "id": "0d482b22-fd38-476b-821f-0c77564815c3",
        "outputId": "aac110e4-bd63-46a3-df9d-e83d7cd7a0f6"
      },
      "outputs": [
        {
          "data": {
            "text/markdown": [
              "**Node ID:** d4d67180-71c8-4328-b3f1-1e98fa42ab69<br>**Similarity:** 0.8694979150607424<br>**Text:** We also list two\n",
              "qualitative examples where safety and helpfulness reward models don’t agree with each other in Table 35.\n",
              "A.4.2\n",
              "Qualitative Results on Safety Data Scaling\n",
              "In Section 4.2.3, we study the impact of adding more safety data into model RLHF in a quantitative manner.\n",
              "Here we showcase a few samples to qualitatively examine the evolution of model behavior when we scale\n",
              "safety data in Tables 36, 37, and 38. In general, we are observing that Llama 2-Chat becomes safer responding\n",
              "to unsafe prompts with more safety data used.<br>"
            ],
            "text/plain": [
              "<IPython.core.display.Markdown object>"
            ]
          },
          "metadata": {},
          "output_type": "display_data"
        },
        {
          "data": {
            "text/markdown": [
              "**Node ID:** caf5f81c-842f-46a4-b679-6be584bd6aff<br>**Similarity:** 0.86168727941324<br>**Text:** We conduct RLHF by first collecting human preference data for safety similar to Section 3.2.2: annotators\n",
              "write a prompt that they believe can elicit unsafe behavior, and then compare multiple model responses to\n",
              "the prompts, selecting the response that is safest according to a set of guidelines. We then use the human\n",
              "preference data to train a safety reward model (see Section 3.2.2), and also reuse the adversarial prompts to\n",
              "sample from the model during the RLHF stage.\n",
              "Better Long-Tail Safety Robustness without Hurting Helpfulness\n",
              "Safety is inherently a long-tail problem,\n",
              "where the challenge comes from a small number of very specific cases. We investigate the impact of Safety\n",
              "RLHF by taking two intermediate Llama 2-Chat checkpoints—one without adversarial prompts in the RLHF\n",
              "stage and one with them—and score their responses on our test sets using our safety and helpfulness reward\n",
              "models. In Figure 14, we plot the score distribution shift of the safety RM on the safety test set (left) and that\n",
              "of the helpfulness RM on the helpfulness test set (right). In the left hand side of the figure, we observe that\n",
              "the distribution of safety RM scores on the safety set shifts to higher reward scores after safety tuning with\n",
              "RLHF, and that the long tail of the distribution near zero thins out. A clear cluster appears on the top-left\n",
              "corner suggesting the improvements of model safety. On the right side, we do not observe any gathering\n",
              "pattern below the y = x line on the right hand side of Figure 14, which indicates that the helpfulness score\n",
              "distribution is preserved after safety tuning with RLHF. Put another way, given sufficient helpfulness training\n",
              "data, the addition of an additional stage of safety mitigation does not negatively impact model performance\n",
              "on helpfulness to any notable degradation. A qualitative example is shown in Table 12.\n",
              "Impact of Safety Data Scaling.\n",
              "A tension between helpfulness and safety of LLMs has been observed in\n",
              "previous studies (Bai et al., 2022a). To better understand how the addition of safety training data affects\n",
              "general model performance, especially helpfulness, we investigate the trends in safety data scaling by\n",
              "adjusting the amount of safety data used in the RLHF stage.<br>"
            ],
            "text/plain": [
              "<IPython.core.display.Markdown object>"
            ]
          },
          "metadata": {},
          "output_type": "display_data"
        },
        {
          "data": {
            "text/markdown": [
              "**Node ID:** d9893bef-a5a7-4248-a0a1-d7c28800ae59<br>**Similarity:** 0.8546977459150967<br>**Text:** 0\n",
              "0.2\n",
              "0.4\n",
              "0.6\n",
              "0.8\n",
              "1.0\n",
              "Helpfulness RM Score before Safety RLHF\n",
              "0.0\n",
              "0.2\n",
              "0.4\n",
              "0.6\n",
              "0.8\n",
              "1.0\n",
              "Helpfulness RM Score after Safety RLHF\n",
              "0\n",
              "1000\n",
              "0\n",
              "1000\n",
              "Figure 14: Impact of safety RLHF measured by reward model score distributions. Left: safety reward\n",
              "model scores of generations on the Meta Safety test set. The clustering of samples in the top left corner\n",
              "suggests the improvements of model safety.<br>"
            ],
            "text/plain": [
              "<IPython.core.display.Markdown object>"
            ]
          },
          "metadata": {},
          "output_type": "display_data"
        }
      ],
      "source": [
        "from llama_index.core.response.notebook_utils import display_source_node\n",
        "\n",
        "for node in nodes:\n",
        "    display_source_node(node, source_length=10000)"
      ]
    },
    {
      "cell_type": "code",
      "execution_count": null,
      "id": "e4dd58db-4b12-49dc-b42f-8a0ee746f5c9",
      "metadata": {
        "id": "e4dd58db-4b12-49dc-b42f-8a0ee746f5c9",
        "outputId": "0e4ad40e-941a-478d-821c-79c8384dbe76"
      },
      "outputs": [
        {
          "data": {
            "text/markdown": [
              "**Node ID:** 16328561-9ff7-4307-8d31-adf6bb74b71b<br>**Similarity:** 0.8770715326726375<br>**Text:** A qualitative example is shown in Table 12.\n",
              "Impact of Safety Data Scaling.\n",
              "A tension between helpfulness and safety of LLMs has been observed in\n",
              "previous studies (Bai et al., 2022a). To better understand how the addition of safety training data affects\n",
              "general model performance, especially helpfulness, we investigate the trends in safety data scaling by\n",
              "adjusting the amount of safety data used in the RLHF stage.<br>"
            ],
            "text/plain": [
              "<IPython.core.display.Markdown object>"
            ]
          },
          "metadata": {},
          "output_type": "display_data"
        },
        {
          "data": {
            "text/markdown": [
              "**Node ID:** e756d327-1a28-4228-ac38-f8a831b1bf77<br>**Similarity:** 0.8728111844788112<br>**Text:** A clear cluster appears on the top-left\n",
              "corner suggesting the improvements of model safety. On the right side, we do not observe any gathering\n",
              "pattern below the y = x line on the right hand side of Figure 14, which indicates that the helpfulness score\n",
              "distribution is preserved after safety tuning with RLHF. Put another way, given sufficient helpfulness training\n",
              "data, the addition of an additional stage of safety mitigation does not negatively impact model performance\n",
              "on helpfulness to any notable degradation. A qualitative example is shown in Table 12.\n",
              "Impact of Safety Data Scaling.<br>"
            ],
            "text/plain": [
              "<IPython.core.display.Markdown object>"
            ]
          },
          "metadata": {},
          "output_type": "display_data"
        },
        {
          "data": {
            "text/markdown": [
              "**Node ID:** d4d67180-71c8-4328-b3f1-1e98fa42ab69<br>**Similarity:** 0.8697379697028405<br>**Text:** We also list two\n",
              "qualitative examples where safety and helpfulness reward models don’t agree with each other in Table 35.\n",
              "A.4.2\n",
              "Qualitative Results on Safety Data Scaling\n",
              "In Section 4.2.3, we study the impact of adding more safety data into model RLHF in a quantitative manner.\n",
              "Here we showcase a few samples to qualitatively examine the evolution of model behavior when we scale\n",
              "safety data in Tables 36, 37, and 38. In general, we are observing that Llama 2-Chat becomes safer responding\n",
              "to unsafe prompts with more safety data used.<br>"
            ],
            "text/plain": [
              "<IPython.core.display.Markdown object>"
            ]
          },
          "metadata": {},
          "output_type": "display_data"
        },
        {
          "data": {
            "text/markdown": [
              "**Node ID:** d9893bef-a5a7-4248-a0a1-d7c28800ae59<br>**Similarity:** 0.855087365309258<br>**Text:** 0\n",
              "0.2\n",
              "0.4\n",
              "0.6\n",
              "0.8\n",
              "1.0\n",
              "Helpfulness RM Score before Safety RLHF\n",
              "0.0\n",
              "0.2\n",
              "0.4\n",
              "0.6\n",
              "0.8\n",
              "1.0\n",
              "Helpfulness RM Score after Safety RLHF\n",
              "0\n",
              "1000\n",
              "0\n",
              "1000\n",
              "Figure 14: Impact of safety RLHF measured by reward model score distributions. Left: safety reward\n",
              "model scores of generations on the Meta Safety test set. The clustering of samples in the top left corner\n",
              "suggests the improvements of model safety.<br>"
            ],
            "text/plain": [
              "<IPython.core.display.Markdown object>"
            ]
          },
          "metadata": {},
          "output_type": "display_data"
        },
        {
          "data": {
            "text/markdown": [
              "**Node ID:** d62ee107-9841-44b5-8b70-bc6487ad6315<br>**Similarity:** 0.8492541852986794<br>**Text:** Better Long-Tail Safety Robustness without Hurting Helpfulness\n",
              "Safety is inherently a long-tail problem,\n",
              "where the challenge comes from a small number of very specific cases. We investigate the impact of Safety\n",
              "RLHF by taking two intermediate Llama 2-Chat checkpoints—one without adversarial prompts in the RLHF\n",
              "stage and one with them—and score their responses on our test sets using our safety and helpfulness reward\n",
              "models.<br>"
            ],
            "text/plain": [
              "<IPython.core.display.Markdown object>"
            ]
          },
          "metadata": {},
          "output_type": "display_data"
        },
        {
          "data": {
            "text/markdown": [
              "**Node ID:** 312a63b3-5e28-4fbf-a3e1-4e8dc0c026ea<br>**Similarity:** 0.8488371951811564<br>**Text:** We conduct RLHF by first collecting human preference data for safety similar to Section 3.2.2: annotators\n",
              "write a prompt that they believe can elicit unsafe behavior, and then compare multiple model responses to\n",
              "the prompts, selecting the response that is safest according to a set of guidelines. We then use the human\n",
              "preference data to train a safety reward model (see Section 3.2.2), and also reuse the adversarial prompts to\n",
              "sample from the model during the RLHF stage.<br>"
            ],
            "text/plain": [
              "<IPython.core.display.Markdown object>"
            ]
          },
          "metadata": {},
          "output_type": "display_data"
        }
      ],
      "source": [
        "for node in base_nodes:\n",
        "    display_source_node(node, source_length=10000)"
      ]
    },
    {
      "cell_type": "markdown",
      "id": "08f62e2c-4def-402e-8904-47f34d12c2fb",
      "metadata": {
        "id": "08f62e2c-4def-402e-8904-47f34d12c2fb"
      },
      "source": [
        "## Plug it into Query Engine"
      ]
    },
    {
      "cell_type": "code",
      "execution_count": null,
      "id": "5d3ce9ec-f6cd-475b-94fa-3e8df81ab824",
      "metadata": {
        "id": "5d3ce9ec-f6cd-475b-94fa-3e8df81ab824"
      },
      "outputs": [],
      "source": [
        "from llama_index.core.query_engine import RetrieverQueryEngine"
      ]
    },
    {
      "cell_type": "code",
      "execution_count": null,
      "id": "f106e1bb-58bc-48bf-a46b-e527339f83c5",
      "metadata": {
        "id": "f106e1bb-58bc-48bf-a46b-e527339f83c5"
      },
      "outputs": [],
      "source": [
        "query_engine = RetrieverQueryEngine.from_args(retriever)\n",
        "base_query_engine = RetrieverQueryEngine.from_args(base_retriever)"
      ]
    },
    {
      "cell_type": "code",
      "execution_count": null,
      "id": "94a85854-ca04-41ed-9f44-b6dce1e513e1",
      "metadata": {
        "id": "94a85854-ca04-41ed-9f44-b6dce1e513e1",
        "outputId": "73b7ecec-7d24-4313-857e-bfd41ad19671"
      },
      "outputs": [
        {
          "name": "stdout",
          "output_type": "stream",
          "text": [
            "> Merging 4 nodes into parent node.\n",
            "> Parent node id: 3671b20d-ea5e-4afc-983e-02be6ee8302d.\n",
            "> Parent node text: We conduct RLHF by first collecting human preference data for safety similar to Section 3.2.2: an...\n"
          ]
        }
      ],
      "source": [
        "response = query_engine.query(query_str)"
      ]
    },
    {
      "cell_type": "code",
      "execution_count": null,
      "id": "8b334b7b-fcb8-4057-a418-b8d8c425ad14",
      "metadata": {
        "id": "8b334b7b-fcb8-4057-a418-b8d8c425ad14",
        "outputId": "c3b29b70-f32c-499a-a827-7b868534865a"
      },
      "outputs": [
        {
          "name": "stdout",
          "output_type": "stream",
          "text": [
            "Adjusting the amount of safety data used in the RLHF stage could potentially have the following outcomes:\n",
            "1. Improved model safety: Increasing the amount of safety data used in RLHF may lead to improvements in model safety. This means that the model becomes better at responding to unsafe prompts and avoids generating unsafe or harmful outputs.\n",
            "2. Thinning out of the long tail of safety RM scores: Increasing the amount of safety data may result in a shift in the distribution of safety reward model (RM) scores towards higher reward scores. This means that the model becomes more consistent in generating safe responses and reduces the occurrence of low safety scores.\n",
            "3. Preservation of helpfulness performance: Adjusting the amount of safety data used in RLHF is not expected to negatively impact model performance on helpfulness. This means that the model's ability to generate helpful responses is maintained even after incorporating additional safety training.\n",
            "4. Gathering pattern in helpfulness RM scores: There is no observed gathering pattern below the y = x line in the distribution of helpfulness RM scores after safety tuning with RLHF. This suggests that the helpfulness score distribution is preserved, indicating that the model's helpfulness performance is not significantly degraded by the addition of safety mitigation measures.\n",
            "Overall, adjusting the amount of safety data used in the RLHF stage aims to strike a balance between improving model safety without compromising its helpfulness performance.\n"
          ]
        }
      ],
      "source": [
        "print(str(response))"
      ]
    },
    {
      "cell_type": "code",
      "execution_count": null,
      "id": "1c38a124-5279-4a43-a2fe-ed2cbce9bd66",
      "metadata": {
        "id": "1c38a124-5279-4a43-a2fe-ed2cbce9bd66"
      },
      "outputs": [],
      "source": [
        "base_response = base_query_engine.query(query_str)"
      ]
    },
    {
      "cell_type": "code",
      "execution_count": null,
      "id": "5c2910e5-1a45-4de5-8035-5b5a47125d81",
      "metadata": {
        "id": "5c2910e5-1a45-4de5-8035-5b5a47125d81",
        "outputId": "01da99a9-b821-4c24-8fe6-cdddcf898145"
      },
      "outputs": [
        {
          "name": "stdout",
          "output_type": "stream",
          "text": [
            "Adjusting the amount of safety data used in the RLHF stage could potentially lead to improvements in model safety. This can be observed by a clear cluster appearing on the top-left corner, suggesting enhanced model safety. Additionally, it is indicated that the helpfulness score distribution is preserved after safety tuning with RLHF, indicating that the addition of safety data does not negatively impact model performance on helpfulness.\n"
          ]
        }
      ],
      "source": [
        "print(str(base_response))"
      ]
    },
    {
      "cell_type": "markdown",
      "id": "f84be450-c036-4cca-bf94-ccfc18e5d52a",
      "metadata": {
        "id": "f84be450-c036-4cca-bf94-ccfc18e5d52a"
      },
      "source": [
        "## Evaluation\n",
        "\n",
        "We evaluate how well the hierarchical retriever works compared to the baseline retriever in a more quantitative manner.\n",
        "\n",
        "**WARNING**: This can be *expensive*, especially with GPT-4. Use caution and tune the sample size to fit your budget."
      ]
    },
    {
      "cell_type": "code",
      "execution_count": null,
      "id": "cb5a6511-5756-4cdb-933e-f530f0c40bc3",
      "metadata": {
        "id": "cb5a6511-5756-4cdb-933e-f530f0c40bc3"
      },
      "outputs": [],
      "source": [
        "from llama_index.core.evaluation import DatasetGenerator, QueryResponseDataset\n",
        "from llama_index.llms.openai import OpenAI\n",
        "import nest_asyncio\n",
        "\n",
        "nest_asyncio.apply()"
      ]
    },
    {
      "cell_type": "code",
      "execution_count": null,
      "id": "914e3056-d9e3-42a0-9600-a66ae6a9f075",
      "metadata": {
        "id": "914e3056-d9e3-42a0-9600-a66ae6a9f075"
      },
      "outputs": [],
      "source": [
        "# NOTE: run this if the dataset isn't already saved\n",
        "# Note: we only generate from the first 20 nodes, since the rest are references\n",
        "eval_llm = OpenAI(model=\"gpt-4\")\n",
        "dataset_generator = DatasetGenerator(\n",
        "    root_nodes[:20],\n",
        "    llm=eval_llm,\n",
        "    show_progress=True,\n",
        "    num_questions_per_chunk=3,\n",
        ")"
      ]
    },
    {
      "cell_type": "code",
      "execution_count": null,
      "id": "d9569b69-d9bf-4b85-a1b3-3ff4ef6619b8",
      "metadata": {
        "id": "d9569b69-d9bf-4b85-a1b3-3ff4ef6619b8"
      },
      "outputs": [],
      "source": [
        "eval_dataset = await dataset_generator.agenerate_dataset_from_nodes(num=60)"
      ]
    },
    {
      "cell_type": "code",
      "execution_count": null,
      "id": "e5b3ba74-0092-4906-88cc-638fa304c97b",
      "metadata": {
        "id": "e5b3ba74-0092-4906-88cc-638fa304c97b"
      },
      "outputs": [],
      "source": [
        "eval_dataset.save_json(\"data/llama2_eval_qr_dataset.json\")"
      ]
    },
    {
      "cell_type": "code",
      "execution_count": null,
      "id": "87f30894-ba65-4af7-9380-210f6a5b2de4",
      "metadata": {
        "id": "87f30894-ba65-4af7-9380-210f6a5b2de4"
      },
      "outputs": [],
      "source": [
        "# optional\n",
        "eval_dataset = QueryResponseDataset.from_json(\n",
        "    \"data/llama2_eval_qr_dataset.json\"\n",
        ")"
      ]
    },
    {
      "cell_type": "markdown",
      "id": "2d793ae5-80be-41ff-8b1f-e92ea27b2a8b",
      "metadata": {
        "id": "2d793ae5-80be-41ff-8b1f-e92ea27b2a8b"
      },
      "source": [
        "### Compare Results\n",
        "\n",
        "We run evaluations on each of the retrievers: correctness, semantic similarity, relevance, and faithfulness."
      ]
    },
    {
      "cell_type": "code",
      "execution_count": null,
      "id": "90ca35cf-e659-4a1e-8561-d07d50972b3a",
      "metadata": {
        "id": "90ca35cf-e659-4a1e-8561-d07d50972b3a"
      },
      "outputs": [],
      "source": [
        "import asyncio\n",
        "import nest_asyncio\n",
        "\n",
        "nest_asyncio.apply()"
      ]
    },
    {
      "cell_type": "code",
      "execution_count": null,
      "id": "f6814643-bdb2-47cd-a8a5-69a1bdfdda30",
      "metadata": {
        "id": "f6814643-bdb2-47cd-a8a5-69a1bdfdda30"
      },
      "outputs": [],
      "source": [
        "from llama_index.core.evaluation import (\n",
        "    CorrectnessEvaluator,\n",
        "    SemanticSimilarityEvaluator,\n",
        "    RelevancyEvaluator,\n",
        "    FaithfulnessEvaluator,\n",
        "    PairwiseComparisonEvaluator,\n",
        ")\n",
        "\n",
        "\n",
        "from collections import defaultdict\n",
        "import pandas as pd\n",
        "\n",
        "# NOTE: can uncomment other evaluators\n",
        "evaluator_c = CorrectnessEvaluator(llm=eval_llm)\n",
        "evaluator_s = SemanticSimilarityEvaluator(llm=eval_llm)\n",
        "evaluator_r = RelevancyEvaluator(llm=eval_llm)\n",
        "evaluator_f = FaithfulnessEvaluator(llm=eval_llm)\n",
        "# pairwise_evaluator = PairwiseComparisonEvaluator(llm=eval_llm)"
      ]
    },
    {
      "cell_type": "code",
      "execution_count": null,
      "id": "ae472816-5927-4f67-9105-fd0ba0c60f49",
      "metadata": {
        "id": "ae472816-5927-4f67-9105-fd0ba0c60f49"
      },
      "outputs": [],
      "source": [
        "from llama_index.core.evaluation.eval_utils import (\n",
        "    get_responses,\n",
        "    get_results_df,\n",
        ")\n",
        "from llama_index.core.evaluation import BatchEvalRunner"
      ]
    },
    {
      "cell_type": "code",
      "execution_count": null,
      "id": "fdfd6d5b-7c73-40a5-9636-8db6a248ac00",
      "metadata": {
        "id": "fdfd6d5b-7c73-40a5-9636-8db6a248ac00"
      },
      "outputs": [],
      "source": [
        "eval_qs = eval_dataset.questions\n",
        "qr_pairs = eval_dataset.qr_pairs\n",
        "ref_response_strs = [r for (_, r) in qr_pairs]"
      ]
    },
    {
      "cell_type": "code",
      "execution_count": null,
      "id": "a7302e7b-6b3e-4d25-874b-94ffe944b527",
      "metadata": {
        "id": "a7302e7b-6b3e-4d25-874b-94ffe944b527"
      },
      "outputs": [],
      "source": [
        "pred_responses = get_responses(eval_qs, query_engine, show_progress=True)"
      ]
    },
    {
      "cell_type": "code",
      "execution_count": null,
      "id": "0bce562f-6c42-446a-b991-f208ca9f55cb",
      "metadata": {
        "id": "0bce562f-6c42-446a-b991-f208ca9f55cb",
        "outputId": "366395fa-6b30-4dfa-93cb-ce41bfaeaa56"
      },
      "outputs": [
        {
          "name": "stderr",
          "output_type": "stream",
          "text": [
            "100%|█████████████████████████████████████████████████████████████████████████████████████████████████████████████████████████████| 60/60 [00:07<00:00,  8.17it/s]\n"
          ]
        }
      ],
      "source": [
        "base_pred_responses = get_responses(\n",
        "    eval_qs, base_query_engine, show_progress=True\n",
        ")"
      ]
    },
    {
      "cell_type": "code",
      "execution_count": null,
      "id": "3428afe0-b5e4-4604-b7ce-270f449766cb",
      "metadata": {
        "id": "3428afe0-b5e4-4604-b7ce-270f449766cb"
      },
      "outputs": [],
      "source": [
        "import numpy as np\n",
        "\n",
        "pred_response_strs = [str(p) for p in pred_responses]\n",
        "base_pred_response_strs = [str(p) for p in base_pred_responses]"
      ]
    },
    {
      "cell_type": "code",
      "execution_count": null,
      "id": "b0a86029-bf5e-4f26-afdf-a9406bada315",
      "metadata": {
        "id": "b0a86029-bf5e-4f26-afdf-a9406bada315"
      },
      "outputs": [],
      "source": [
        "evaluator_dict = {\n",
        "    \"correctness\": evaluator_c,\n",
        "    \"faithfulness\": evaluator_f,\n",
        "    \"relevancy\": evaluator_r,\n",
        "    \"semantic_similarity\": evaluator_s,\n",
        "}\n",
        "batch_runner = BatchEvalRunner(evaluator_dict, workers=2, show_progress=True)"
      ]
    },
    {
      "cell_type": "code",
      "execution_count": null,
      "id": "9abccb17-cf7d-4f59-b849-a4d5581df7a9",
      "metadata": {
        "id": "9abccb17-cf7d-4f59-b849-a4d5581df7a9"
      },
      "outputs": [],
      "source": [
        "eval_results = await batch_runner.aevaluate_responses(\n",
        "    eval_qs, responses=pred_responses, reference=ref_response_strs\n",
        ")"
      ]
    },
    {
      "cell_type": "code",
      "execution_count": null,
      "id": "7c5df1ec-408a-4012-93c7-a0151fa92b9e",
      "metadata": {
        "id": "7c5df1ec-408a-4012-93c7-a0151fa92b9e"
      },
      "outputs": [],
      "source": [
        "base_eval_results = await batch_runner.aevaluate_responses(\n",
        "    eval_qs, responses=base_pred_responses, reference=ref_response_strs\n",
        ")"
      ]
    },
    {
      "cell_type": "code",
      "execution_count": null,
      "id": "ea90f363-71d7-404c-9d4d-f6eea386e59f",
      "metadata": {
        "id": "ea90f363-71d7-404c-9d4d-f6eea386e59f",
        "outputId": "dae3342f-10d9-437d-e7f4-ec7af9daed20"
      },
      "outputs": [
        {
          "data": {
            "text/html": [
              "<div>\n",
              "<style scoped>\n",
              "    .dataframe tbody tr th:only-of-type {\n",
              "        vertical-align: middle;\n",
              "    }\n",
              "\n",
              "    .dataframe tbody tr th {\n",
              "        vertical-align: top;\n",
              "    }\n",
              "\n",
              "    .dataframe thead th {\n",
              "        text-align: right;\n",
              "    }\n",
              "</style>\n",
              "<table border=\"1\" class=\"dataframe\">\n",
              "  <thead>\n",
              "    <tr style=\"text-align: right;\">\n",
              "      <th></th>\n",
              "      <th>names</th>\n",
              "      <th>correctness</th>\n",
              "      <th>relevancy</th>\n",
              "      <th>faithfulness</th>\n",
              "      <th>semantic_similarity</th>\n",
              "    </tr>\n",
              "  </thead>\n",
              "  <tbody>\n",
              "    <tr>\n",
              "      <th>0</th>\n",
              "      <td>Auto Merging Retriever</td>\n",
              "      <td>4.266667</td>\n",
              "      <td>0.916667</td>\n",
              "      <td>0.95</td>\n",
              "      <td>0.962196</td>\n",
              "    </tr>\n",
              "    <tr>\n",
              "      <th>1</th>\n",
              "      <td>Base Retriever</td>\n",
              "      <td>4.208333</td>\n",
              "      <td>0.916667</td>\n",
              "      <td>0.95</td>\n",
              "      <td>0.960602</td>\n",
              "    </tr>\n",
              "  </tbody>\n",
              "</table>\n",
              "</div>"
            ],
            "text/plain": [
              "                    names  correctness  relevancy  faithfulness  \\\n",
              "0  Auto Merging Retriever     4.266667   0.916667          0.95   \n",
              "1          Base Retriever     4.208333   0.916667          0.95   \n",
              "\n",
              "   semantic_similarity  \n",
              "0             0.962196  \n",
              "1             0.960602  "
            ]
          },
          "metadata": {},
          "output_type": "display_data"
        }
      ],
      "source": [
        "results_df = get_results_df(\n",
        "    [eval_results, base_eval_results],\n",
        "    [\"Auto Merging Retriever\", \"Base Retriever\"],\n",
        "    [\"correctness\", \"relevancy\", \"faithfulness\", \"semantic_similarity\"],\n",
        ")\n",
        "display(results_df)"
      ]
    },
    {
      "cell_type": "markdown",
      "id": "be393093-9a6d-46d1-9d18-d17e92523200",
      "metadata": {
        "id": "be393093-9a6d-46d1-9d18-d17e92523200"
      },
      "source": [
        "**Analysis**: The results are roughly the same.\n",
        "\n",
        "Let's also try to see which answer GPT-4 prefers with our pairwise evals."
      ]
    },
    {
      "cell_type": "code",
      "execution_count": null,
      "id": "91126247-b68d-43a9-b64f-f6764b0c2357",
      "metadata": {
        "id": "91126247-b68d-43a9-b64f-f6764b0c2357"
      },
      "outputs": [],
      "source": [
        "batch_runner = BatchEvalRunner(\n",
        "    {\"pairwise\": pairwise_evaluator}, workers=10, show_progress=True\n",
        ")"
      ]
    },
    {
      "cell_type": "code",
      "execution_count": null,
      "id": "4426a26a-c26e-4560-b176-f2a7894adda7",
      "metadata": {
        "id": "4426a26a-c26e-4560-b176-f2a7894adda7"
      },
      "outputs": [],
      "source": [
        "pairwise_eval_results = await batch_runner.aevaluate_response_strs(\n",
        "    eval_qs,\n",
        "    response_strs=pred_response_strs,\n",
        "    reference=base_pred_response_strs,\n",
        ")\n",
        "pairwise_score = np.array(\n",
        "    [r.score for r in pairwise_eval_results[\"pairwise\"]]\n",
        ").mean()"
      ]
    },
    {
      "cell_type": "code",
      "execution_count": null,
      "id": "0460557e-f80d-4dcb-a8ec-b08c61ed3129",
      "metadata": {
        "id": "0460557e-f80d-4dcb-a8ec-b08c61ed3129",
        "outputId": "e2920be9-5b7b-4fe7-fe2d-6b50285eb9c5"
      },
      "outputs": [
        {
          "data": {
            "text/plain": [
              "0.525"
            ]
          },
          "execution_count": null,
          "metadata": {},
          "output_type": "execute_result"
        }
      ],
      "source": [
        "pairwise_score"
      ]
    },
    {
      "cell_type": "markdown",
      "id": "9ec2f94b-bbff-4fee-920a-bf4c872f23f2",
      "metadata": {
        "id": "9ec2f94b-bbff-4fee-920a-bf4c872f23f2"
      },
      "source": [
        "**Analysis**: The pairwise comparison score is a measure of the percentage of time the candidate answer (using auto-merging retriever) is preferred vs. the base answer (using the base retriever). Here we see that it's roughly even."
      ]
    },
    {
      "cell_type": "code",
      "metadata": {
        "id": "3d475e42"
      },
      "source": [
        "ollama list"
      ],
      "id": "3d475e42",
      "execution_count": null,
      "outputs": []
    },
    {
      "cell_type": "code",
      "metadata": {
        "colab": {
          "base_uri": "https://localhost:8080/"
        },
        "id": "d90a0258",
        "outputId": "70d46ce0-53ae-49ca-c39b-a38845b9bb27"
      },
      "source": [
        "%pip install lightrag"
      ],
      "id": "d90a0258",
      "execution_count": 4,
      "outputs": [
        {
          "output_type": "stream",
          "name": "stdout",
          "text": [
            "Requirement already satisfied: lightrag in /usr/local/lib/python3.12/dist-packages (0.1.0b6)\n",
            "Requirement already satisfied: backoff<3.0.0,>=2.2.1 in /usr/local/lib/python3.12/dist-packages (from lightrag) (2.2.1)\n",
            "Requirement already satisfied: jinja2<4.0.0,>=3.1.3 in /usr/local/lib/python3.12/dist-packages (from lightrag) (3.1.6)\n",
            "Requirement already satisfied: jsonlines<5.0.0,>=4.0.0 in /usr/local/lib/python3.12/dist-packages (from lightrag) (4.0.0)\n",
            "Requirement already satisfied: nest-asyncio<2.0.0,>=1.6.0 in /usr/local/lib/python3.12/dist-packages (from lightrag) (1.6.0)\n",
            "Requirement already satisfied: numpy<2.0.0,>=1.26.4 in /usr/local/lib/python3.12/dist-packages (from lightrag) (1.26.4)\n",
            "Requirement already satisfied: python-dotenv<2.0.0,>=1.0.1 in /usr/local/lib/python3.12/dist-packages (from lightrag) (1.1.1)\n",
            "Requirement already satisfied: pyyaml<7.0.0,>=6.0.1 in /usr/local/lib/python3.12/dist-packages (from lightrag) (6.0.2)\n",
            "Requirement already satisfied: tiktoken<0.8.0,>=0.7.0 in /usr/local/lib/python3.12/dist-packages (from lightrag) (0.7.0)\n",
            "Requirement already satisfied: tqdm<5.0.0,>=4.66.4 in /usr/local/lib/python3.12/dist-packages (from lightrag) (4.67.1)\n",
            "Requirement already satisfied: MarkupSafe>=2.0 in /usr/local/lib/python3.12/dist-packages (from jinja2<4.0.0,>=3.1.3->lightrag) (3.0.2)\n",
            "Requirement already satisfied: attrs>=19.2.0 in /usr/local/lib/python3.12/dist-packages (from jsonlines<5.0.0,>=4.0.0->lightrag) (25.3.0)\n",
            "Requirement already satisfied: regex>=2022.1.18 in /usr/local/lib/python3.12/dist-packages (from tiktoken<0.8.0,>=0.7.0->lightrag) (2025.7.34)\n",
            "Requirement already satisfied: requests>=2.26.0 in /usr/local/lib/python3.12/dist-packages (from tiktoken<0.8.0,>=0.7.0->lightrag) (2.32.4)\n",
            "Requirement already satisfied: charset_normalizer<4,>=2 in /usr/local/lib/python3.12/dist-packages (from requests>=2.26.0->tiktoken<0.8.0,>=0.7.0->lightrag) (3.4.3)\n",
            "Requirement already satisfied: idna<4,>=2.5 in /usr/local/lib/python3.12/dist-packages (from requests>=2.26.0->tiktoken<0.8.0,>=0.7.0->lightrag) (3.10)\n",
            "Requirement already satisfied: urllib3<3,>=1.21.1 in /usr/local/lib/python3.12/dist-packages (from requests>=2.26.0->tiktoken<0.8.0,>=0.7.0->lightrag) (2.5.0)\n",
            "Requirement already satisfied: certifi>=2017.4.17 in /usr/local/lib/python3.12/dist-packages (from requests>=2.26.0->tiktoken<0.8.0,>=0.7.0->lightrag) (2025.8.3)\n"
          ]
        }
      ]
    }
  ],
  "metadata": {
    "kernelspec": {
      "display_name": "Python 3",
      "name": "python3"
    },
    "language_info": {
      "name": "python"
    },
    "colab": {
      "provenance": [],
      "toc_visible": true,
      "gpuType": "V28"
    },
    "accelerator": "TPU"
  },
  "nbformat": 4,
  "nbformat_minor": 5
}